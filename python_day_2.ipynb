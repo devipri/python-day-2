{
  "nbformat": 4,
  "nbformat_minor": 0,
  "metadata": {
    "colab": {
      "name": "python day 2.ipynb",
      "provenance": [],
      "authorship_tag": "ABX9TyMTOaVlo4MRlXe1lwyH9Bwj",
      "include_colab_link": true
    },
    "kernelspec": {
      "name": "python3",
      "display_name": "Python 3"
    }
  },
  "cells": [
    {
      "cell_type": "markdown",
      "metadata": {
        "id": "view-in-github",
        "colab_type": "text"
      },
      "source": [
        "<a href=\"https://colab.research.google.com/github/devipri/python-day-2/blob/master/python_day_2.ipynb\" target=\"_parent\"><img src=\"https://colab.research.google.com/assets/colab-badge.svg\" alt=\"Open In Colab\"/></a>"
      ]
    },
    {
      "cell_type": "code",
      "metadata": {
        "id": "glIktW5zwK6l",
        "colab_type": "code",
        "colab": {
          "base_uri": "https://localhost:8080/",
          "height": 119
        },
        "outputId": "e43268f4-149c-4d18-8093-405e71f25557"
      },
      "source": [
        "print(\"hello world\")\n",
        "print(\"hello\\\n",
        "world\")\n",
        "print('HELLO \\nhave a nice day')\n",
        "print('Name \\t number \\t Age \\t marks')\n",
        "print('Welcome \\a')"
      ],
      "execution_count": 1,
      "outputs": [
        {
          "output_type": "stream",
          "text": [
            "hello world\n",
            "helloworld\n",
            "HELLO \n",
            "have a nice day\n",
            "Name \t number \t Age \t marks\n",
            "Welcome \u0007\n"
          ],
          "name": "stdout"
        }
      ]
    },
    {
      "cell_type": "code",
      "metadata": {
        "id": "SMx_Cn1XwWQL",
        "colab_type": "code",
        "colab": {
          "base_uri": "https://localhost:8080/",
          "height": 85
        },
        "outputId": "382f57cd-4d39-40c0-bd5a-c99534ade0c5"
      },
      "source": [
        "print('hi... it\\'s me bunny...')\n",
        "print(''' (\\_/)\n",
        "( •,•)\n",
        "(\")_(\") ''')"
      ],
      "execution_count": 2,
      "outputs": [
        {
          "output_type": "stream",
          "text": [
            "hi... it's me bunny...\n",
            " (\\_/)\n",
            "( •,•)\n",
            "(\")_(\") \n"
          ],
          "name": "stdout"
        }
      ]
    },
    {
      "cell_type": "code",
      "metadata": {
        "id": "KDuSFE_PwbA3",
        "colab_type": "code",
        "colab": {
          "base_uri": "https://localhost:8080/",
          "height": 68
        },
        "outputId": "f3ca58a9-bc00-49b8-a21b-17e6b1b965ed"
      },
      "source": [
        "Name = \"priya\"\n",
        "Age  =  21\n",
        "percentage = 87.2\n",
        "print(f\"I'm {Name}. \\nI'm {Age}Yrs old.\\nI scored {percentage} in my degree \")"
      ],
      "execution_count": 3,
      "outputs": [
        {
          "output_type": "stream",
          "text": [
            "I'm priya. \n",
            "I'm 21Yrs old.\n",
            "I scored 87.2 in my degree \n"
          ],
          "name": "stdout"
        }
      ]
    },
    {
      "cell_type": "code",
      "metadata": {
        "id": "C0pGBLkAwiQ-",
        "colab_type": "code",
        "colab": {
          "base_uri": "https://localhost:8080/",
          "height": 51
        },
        "outputId": "86010f6e-8553-454b-88a5-fcb11f02123a"
      },
      "source": [
        "X= 5\n",
        "print(id(X))\n",
        "y= 5\n",
        "print(id(y))"
      ],
      "execution_count": 4,
      "outputs": [
        {
          "output_type": "stream",
          "text": [
            "10914624\n",
            "10914624\n"
          ],
          "name": "stdout"
        }
      ]
    },
    {
      "cell_type": "code",
      "metadata": {
        "id": "WCT-wZ1lwm4j",
        "colab_type": "code",
        "colab": {
          "base_uri": "https://localhost:8080/",
          "height": 85
        },
        "outputId": "8e44895c-1f09-4cfe-f8f5-7d2a20d105b9"
      },
      "source": [
        "a= 29.5\n",
        "b=29.5\n",
        "print(id(a))\n",
        "print(id(b))\n",
        "print(a is b)\n",
        "print(a is not b)"
      ],
      "execution_count": 5,
      "outputs": [
        {
          "output_type": "stream",
          "text": [
            "140282792787520\n",
            "140282792787496\n",
            "False\n",
            "True\n"
          ],
          "name": "stdout"
        }
      ]
    },
    {
      "cell_type": "code",
      "metadata": {
        "id": "j9QWj9PJwu_N",
        "colab_type": "code",
        "colab": {
          "base_uri": "https://localhost:8080/",
          "height": 68
        },
        "outputId": "07a4304d-d7ea-437c-f7bf-b66fe94d523a"
      },
      "source": [
        "colour= \"orange\"\n",
        "print('a' in colour)\n",
        "print('b' in colour)\n",
        "print('d' not in colour)"
      ],
      "execution_count": 6,
      "outputs": [
        {
          "output_type": "stream",
          "text": [
            "True\n",
            "False\n",
            "True\n"
          ],
          "name": "stdout"
        }
      ]
    },
    {
      "cell_type": "code",
      "metadata": {
        "id": "ZZzpBzyewxNa",
        "colab_type": "code",
        "colab": {
          "base_uri": "https://localhost:8080/",
          "height": 272
        },
        "outputId": "e3be5aef-e854-481b-ddd9-58978e49a159"
      },
      "source": [
        "print(a is b)\n",
        "print(a is not b)\n",
        "print(29/5)\n",
        "print(29%5)\n",
        "print(29//5)\n",
        "print(2**5)\n",
        "d=9\n",
        "p=11\n",
        "print(d==p)\n",
        "print(d!=p)\n",
        "print(d<=p)\n",
        "print(d>=p)\n",
        "print(d<p)\n",
        "print(d>p)\n",
        "print(d!=p and a==b)\n",
        "print(d!=p or a==b)\n",
        "print(not (d!=p and a==b))"
      ],
      "execution_count": 7,
      "outputs": [
        {
          "output_type": "stream",
          "text": [
            "False\n",
            "True\n",
            "5.8\n",
            "4\n",
            "5\n",
            "32\n",
            "False\n",
            "True\n",
            "True\n",
            "False\n",
            "True\n",
            "False\n",
            "True\n",
            "True\n",
            "False\n"
          ],
          "name": "stdout"
        }
      ]
    }
  ]
}