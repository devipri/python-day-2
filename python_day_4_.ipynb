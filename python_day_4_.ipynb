{
  "nbformat": 4,
  "nbformat_minor": 0,
  "metadata": {
    "colab": {
      "name": "python day 4 .ipynb",
      "provenance": [],
      "authorship_tag": "ABX9TyN3qTEr8pKkOvO3daO6XrD/",
      "include_colab_link": true
    },
    "kernelspec": {
      "name": "python3",
      "display_name": "Python 3"
    }
  },
  "cells": [
    {
      "cell_type": "markdown",
      "metadata": {
        "id": "view-in-github",
        "colab_type": "text"
      },
      "source": [
        "<a href=\"https://colab.research.google.com/github/devipri/python-day-2/blob/master/python_day_4_.ipynb\" target=\"_parent\"><img src=\"https://colab.research.google.com/assets/colab-badge.svg\" alt=\"Open In Colab\"/></a>"
      ]
    },
    {
      "cell_type": "code",
      "metadata": {
        "id": "ZnzgjdOuz_Af",
        "colab_type": "code",
        "colab": {
          "base_uri": "https://localhost:8080/",
          "height": 170
        },
        "outputId": "0fef7be6-5fea-40a1-d7bf-42ced1d4b58e"
      },
      "source": [
        "## ASSIGNMENT QN.NO.1 : Find all occurrences of substring in a given string \n",
        "\n",
        "str1 = input(\"Enter the sentence:\")\n",
        "#\"i hear and i forget. i see and i remember. i do and i understand \"\n",
        "print(str1)\n",
        "str2 = input(\"Enter the word: \")\n",
        "count = 0\n",
        "for i in range(len(str1)): \n",
        "  if str1.startswith(str2, i):\n",
        "    count=count+1\n",
        "    print(f\"The word '{str2}' present in '{str1}' as: {count} --> {i} \")\n",
        "if count==0:\n",
        "  print(f\"The word '{str2}' is not present in '{str1}'\")"
      ],
      "execution_count": null,
      "outputs": [
        {
          "output_type": "stream",
          "text": [
            "Enter the sentence:i hear and i forget. i see and i remember. i do and i understand \n",
            "i hear and i forget. i see and i remember. i do and i understand \n",
            "Enter the word i\n",
            "The word 'i' present in 'i hear and i forget. i see and i remember. i do and i understand ' as: 1 --> 0 \n",
            "The word 'i' present in 'i hear and i forget. i see and i remember. i do and i understand ' as: 2 --> 11 \n",
            "The word 'i' present in 'i hear and i forget. i see and i remember. i do and i understand ' as: 3 --> 21 \n",
            "The word 'i' present in 'i hear and i forget. i see and i remember. i do and i understand ' as: 4 --> 31 \n",
            "The word 'i' present in 'i hear and i forget. i see and i remember. i do and i understand ' as: 5 --> 43 \n",
            "The word 'i' present in 'i hear and i forget. i see and i remember. i do and i understand ' as: 6 --> 52 \n"
          ],
          "name": "stdout"
        }
      ]
    },
    {
      "cell_type": "code",
      "metadata": {
        "id": "WWJUyzvqI8kp",
        "colab_type": "code",
        "colab": {
          "base_uri": "https://localhost:8080/",
          "height": 374
        },
        "outputId": "389f8a3a-ff16-423b-ccb6-a6ac00b1c15f"
      },
      "source": [
        "## ASSIGNMENT QN.NO.2 :\n",
        "\n",
        "n= int(input(\"Enter number of strings you want check:\"))\n",
        "for i in range(0,n):\n",
        "  str3= input(\"Enter the string\")\n",
        "  if str3.isalpha():\n",
        "    print(\"It contains full of alphabet\")\n",
        "  elif str3.isdigit():\n",
        "    print(\"It contains full of numbers\")\n",
        "  else:\n",
        "    print(\"It contains alphabet and numbers\")\n",
        "  upr= str3.isupper()\n",
        "  print(\"The given string is uppercase:\",upr)\n",
        "  lwr= str3.islower()\n",
        "  print(\"The given string is lowercase:\",lwr)"
      ],
      "execution_count": 55,
      "outputs": [
        {
          "output_type": "stream",
          "text": [
            "Enter number of strings you want check:5\n",
            "Enter the stringPEACE@#\n",
            "It contains alphabet and numbers\n",
            "The given string is uppercase: True\n",
            "The given string is lowercase: False\n",
            "Enter the stringLord \n",
            "It contains alphabet and numbers\n",
            "The given string is uppercase: False\n",
            "The given string is lowercase: False\n",
            "Enter the string@divine\n",
            "It contains alphabet and numbers\n",
            "The given string is uppercase: False\n",
            "The given string is lowercase: True\n",
            "Enter the string1234534@#$$\n",
            "It contains alphabet and numbers\n",
            "The given string is uppercase: False\n",
            "The given string is lowercase: False\n",
            "Enter the string12345\n",
            "It contains full of numbers\n",
            "The given string is uppercase: False\n",
            "The given string is lowercase: False\n"
          ],
          "name": "stdout"
        }
      ]
    }
  ]
}